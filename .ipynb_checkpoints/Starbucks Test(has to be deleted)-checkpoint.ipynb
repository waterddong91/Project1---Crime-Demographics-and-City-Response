{
 "cells": [
  {
   "cell_type": "code",
   "execution_count": 1,
   "metadata": {},
   "outputs": [],
   "source": [
    "# Dependencies\n",
    "import pandas as pd\n",
    "import numpy as np\n",
    "import matplotlib.pyplot as plt"
   ]
  },
  {
   "cell_type": "code",
   "execution_count": 2,
   "metadata": {},
   "outputs": [
    {
     "name": "stdout",
     "output_type": "stream",
     "text": [
      "C:\\Users\\sarah\\OneDrive\\Desktop\\Data Analytics BootCamp\\Homework\\Project-1---Crime-Demographics-and-City-Response\\Data Cleaning\n"
     ]
    }
   ],
   "source": [
    "%run Final_Merge.ipynb"
   ]
  },
  {
   "cell_type": "code",
   "execution_count": 3,
   "metadata": {},
   "outputs": [
    {
     "data": {
      "text/html": [
       "<div>\n",
       "<style scoped>\n",
       "    .dataframe tbody tr th:only-of-type {\n",
       "        vertical-align: middle;\n",
       "    }\n",
       "\n",
       "    .dataframe tbody tr th {\n",
       "        vertical-align: top;\n",
       "    }\n",
       "\n",
       "    .dataframe thead th {\n",
       "        text-align: right;\n",
       "    }\n",
       "</style>\n",
       "<table border=\"1\" class=\"dataframe\">\n",
       "  <thead>\n",
       "    <tr style=\"text-align: right;\">\n",
       "      <th></th>\n",
       "      <th>Neighbourhood</th>\n",
       "      <th>Hood_ID</th>\n",
       "      <th>Assault Rate</th>\n",
       "      <th>Auto Theft Rate</th>\n",
       "      <th>Break&amp;Enter Rate</th>\n",
       "      <th>Homicide Rate</th>\n",
       "      <th>Robberey Rate</th>\n",
       "      <th>Theft Over Rate</th>\n",
       "      <th>Total Average Rate</th>\n",
       "      <th>Median_Income</th>\n",
       "      <th>Average_Income</th>\n",
       "      <th>Number of Starbucks Stores</th>\n",
       "      <th>Number of Red Lights</th>\n",
       "      <th>Speeding</th>\n",
       "      <th>Income Group</th>\n",
       "    </tr>\n",
       "  </thead>\n",
       "  <tbody>\n",
       "    <tr>\n",
       "      <th>0</th>\n",
       "      <td>South Parkdale</td>\n",
       "      <td>85</td>\n",
       "      <td>1148.8</td>\n",
       "      <td>91.5</td>\n",
       "      <td>407.3</td>\n",
       "      <td>4.6</td>\n",
       "      <td>151.0</td>\n",
       "      <td>100.7</td>\n",
       "      <td>317.32</td>\n",
       "      <td>35601.0</td>\n",
       "      <td>46896.0</td>\n",
       "      <td>1</td>\n",
       "      <td>2</td>\n",
       "      <td>26</td>\n",
       "      <td>25-50K</td>\n",
       "    </tr>\n",
       "    <tr>\n",
       "      <th>1</th>\n",
       "      <td>South Riverdale</td>\n",
       "      <td>70</td>\n",
       "      <td>936.3</td>\n",
       "      <td>143.5</td>\n",
       "      <td>477.1</td>\n",
       "      <td>0.0</td>\n",
       "      <td>125.6</td>\n",
       "      <td>75.3</td>\n",
       "      <td>292.97</td>\n",
       "      <td>65076.0</td>\n",
       "      <td>83491.0</td>\n",
       "      <td>1</td>\n",
       "      <td>2</td>\n",
       "      <td>20</td>\n",
       "      <td>75-100K</td>\n",
       "    </tr>\n",
       "    <tr>\n",
       "      <th>2</th>\n",
       "      <td>St.Andrew-Windfields</td>\n",
       "      <td>40</td>\n",
       "      <td>325.6</td>\n",
       "      <td>196.5</td>\n",
       "      <td>466.0</td>\n",
       "      <td>0.0</td>\n",
       "      <td>67.4</td>\n",
       "      <td>33.7</td>\n",
       "      <td>181.53</td>\n",
       "      <td>94271.0</td>\n",
       "      <td>189629.0</td>\n",
       "      <td>1</td>\n",
       "      <td>1</td>\n",
       "      <td>3</td>\n",
       "      <td>175-200K</td>\n",
       "    </tr>\n",
       "    <tr>\n",
       "      <th>3</th>\n",
       "      <td>Taylor-Massey</td>\n",
       "      <td>61</td>\n",
       "      <td>777.9</td>\n",
       "      <td>76.5</td>\n",
       "      <td>401.7</td>\n",
       "      <td>6.4</td>\n",
       "      <td>82.9</td>\n",
       "      <td>19.1</td>\n",
       "      <td>227.42</td>\n",
       "      <td>40915.0</td>\n",
       "      <td>51242.0</td>\n",
       "      <td>0</td>\n",
       "      <td>0</td>\n",
       "      <td>4</td>\n",
       "      <td>50-75K</td>\n",
       "    </tr>\n",
       "    <tr>\n",
       "      <th>4</th>\n",
       "      <td>Humber Summit</td>\n",
       "      <td>21</td>\n",
       "      <td>950.4</td>\n",
       "      <td>1087.3</td>\n",
       "      <td>459.1</td>\n",
       "      <td>24.2</td>\n",
       "      <td>225.5</td>\n",
       "      <td>177.2</td>\n",
       "      <td>487.28</td>\n",
       "      <td>57786.0</td>\n",
       "      <td>68431.0</td>\n",
       "      <td>0</td>\n",
       "      <td>3</td>\n",
       "      <td>23</td>\n",
       "      <td>50-75K</td>\n",
       "    </tr>\n",
       "  </tbody>\n",
       "</table>\n",
       "</div>"
      ],
      "text/plain": [
       "          Neighbourhood  Hood_ID  Assault Rate  Auto Theft Rate  \\\n",
       "0        South Parkdale       85        1148.8             91.5   \n",
       "1       South Riverdale       70         936.3            143.5   \n",
       "2  St.Andrew-Windfields       40         325.6            196.5   \n",
       "3         Taylor-Massey       61         777.9             76.5   \n",
       "4         Humber Summit       21         950.4           1087.3   \n",
       "\n",
       "   Break&Enter Rate  Homicide Rate  Robberey Rate  Theft Over Rate  \\\n",
       "0             407.3            4.6          151.0            100.7   \n",
       "1             477.1            0.0          125.6             75.3   \n",
       "2             466.0            0.0           67.4             33.7   \n",
       "3             401.7            6.4           82.9             19.1   \n",
       "4             459.1           24.2          225.5            177.2   \n",
       "\n",
       "   Total Average Rate  Median_Income  Average_Income  \\\n",
       "0              317.32        35601.0         46896.0   \n",
       "1              292.97        65076.0         83491.0   \n",
       "2              181.53        94271.0        189629.0   \n",
       "3              227.42        40915.0         51242.0   \n",
       "4              487.28        57786.0         68431.0   \n",
       "\n",
       "   Number of Starbucks Stores  Number of Red Lights  Speeding Income Group  \n",
       "0                           1                     2        26       25-50K  \n",
       "1                           1                     2        20      75-100K  \n",
       "2                           1                     1         3     175-200K  \n",
       "3                           0                     0         4       50-75K  \n",
       "4                           0                     3        23       50-75K  "
      ]
     },
     "execution_count": 3,
     "metadata": {},
     "output_type": "execute_result"
    }
   ],
   "source": [
    "final_df.head()"
   ]
  },
  {
   "cell_type": "code",
   "execution_count": 4,
   "metadata": {},
   "outputs": [
    {
     "data": {
      "text/html": [
       "<div>\n",
       "<style scoped>\n",
       "    .dataframe tbody tr th:only-of-type {\n",
       "        vertical-align: middle;\n",
       "    }\n",
       "\n",
       "    .dataframe tbody tr th {\n",
       "        vertical-align: top;\n",
       "    }\n",
       "\n",
       "    .dataframe thead th {\n",
       "        text-align: right;\n",
       "    }\n",
       "</style>\n",
       "<table border=\"1\" class=\"dataframe\">\n",
       "  <thead>\n",
       "    <tr style=\"text-align: right;\">\n",
       "      <th></th>\n",
       "      <th>Neighbourhood</th>\n",
       "      <th>Hood_ID</th>\n",
       "      <th>Assault Rate</th>\n",
       "      <th>Auto Theft Rate</th>\n",
       "      <th>Break&amp;Enter Rate</th>\n",
       "      <th>Homicide Rate</th>\n",
       "      <th>Robberey Rate</th>\n",
       "      <th>Theft Over Rate</th>\n",
       "      <th>Total Average Rate</th>\n",
       "      <th>Median_Income</th>\n",
       "      <th>Average_Income</th>\n",
       "      <th>Number of Starbucks Stores</th>\n",
       "      <th>Number of Red Lights</th>\n",
       "      <th>Speeding</th>\n",
       "      <th>Income Group</th>\n",
       "    </tr>\n",
       "  </thead>\n",
       "  <tbody>\n",
       "    <tr>\n",
       "      <th>58</th>\n",
       "      <td>Oakridge</td>\n",
       "      <td>121</td>\n",
       "      <td>1112.3</td>\n",
       "      <td>72.2</td>\n",
       "      <td>361.1</td>\n",
       "      <td>0.0</td>\n",
       "      <td>231.1</td>\n",
       "      <td>43.3</td>\n",
       "      <td>303.33</td>\n",
       "      <td>33980.0</td>\n",
       "      <td>45727.0</td>\n",
       "      <td>0</td>\n",
       "      <td>0</td>\n",
       "      <td>0</td>\n",
       "      <td>25-50K</td>\n",
       "    </tr>\n",
       "    <tr>\n",
       "      <th>0</th>\n",
       "      <td>South Parkdale</td>\n",
       "      <td>85</td>\n",
       "      <td>1148.8</td>\n",
       "      <td>91.5</td>\n",
       "      <td>407.3</td>\n",
       "      <td>4.6</td>\n",
       "      <td>151.0</td>\n",
       "      <td>100.7</td>\n",
       "      <td>317.32</td>\n",
       "      <td>35601.0</td>\n",
       "      <td>46896.0</td>\n",
       "      <td>1</td>\n",
       "      <td>2</td>\n",
       "      <td>26</td>\n",
       "      <td>25-50K</td>\n",
       "    </tr>\n",
       "    <tr>\n",
       "      <th>72</th>\n",
       "      <td>Regent Park</td>\n",
       "      <td>72</td>\n",
       "      <td>1444.0</td>\n",
       "      <td>194.4</td>\n",
       "      <td>601.7</td>\n",
       "      <td>9.3</td>\n",
       "      <td>129.6</td>\n",
       "      <td>46.3</td>\n",
       "      <td>404.22</td>\n",
       "      <td>32172.0</td>\n",
       "      <td>49191.0</td>\n",
       "      <td>0</td>\n",
       "      <td>1</td>\n",
       "      <td>3</td>\n",
       "      <td>25-50K</td>\n",
       "    </tr>\n",
       "    <tr>\n",
       "      <th>3</th>\n",
       "      <td>Taylor-Massey</td>\n",
       "      <td>61</td>\n",
       "      <td>777.9</td>\n",
       "      <td>76.5</td>\n",
       "      <td>401.7</td>\n",
       "      <td>6.4</td>\n",
       "      <td>82.9</td>\n",
       "      <td>19.1</td>\n",
       "      <td>227.42</td>\n",
       "      <td>40915.0</td>\n",
       "      <td>51242.0</td>\n",
       "      <td>0</td>\n",
       "      <td>0</td>\n",
       "      <td>4</td>\n",
       "      <td>50-75K</td>\n",
       "    </tr>\n",
       "    <tr>\n",
       "      <th>79</th>\n",
       "      <td>Black Creek</td>\n",
       "      <td>24</td>\n",
       "      <td>943.1</td>\n",
       "      <td>326.6</td>\n",
       "      <td>170.2</td>\n",
       "      <td>0.0</td>\n",
       "      <td>193.2</td>\n",
       "      <td>41.4</td>\n",
       "      <td>279.08</td>\n",
       "      <td>41878.0</td>\n",
       "      <td>51384.0</td>\n",
       "      <td>0</td>\n",
       "      <td>1</td>\n",
       "      <td>15</td>\n",
       "      <td>50-75K</td>\n",
       "    </tr>\n",
       "  </tbody>\n",
       "</table>\n",
       "</div>"
      ],
      "text/plain": [
       "     Neighbourhood  Hood_ID  Assault Rate  Auto Theft Rate  Break&Enter Rate  \\\n",
       "58        Oakridge      121        1112.3             72.2             361.1   \n",
       "0   South Parkdale       85        1148.8             91.5             407.3   \n",
       "72     Regent Park       72        1444.0            194.4             601.7   \n",
       "3    Taylor-Massey       61         777.9             76.5             401.7   \n",
       "79     Black Creek       24         943.1            326.6             170.2   \n",
       "\n",
       "    Homicide Rate  Robberey Rate  Theft Over Rate  Total Average Rate  \\\n",
       "58            0.0          231.1             43.3              303.33   \n",
       "0             4.6          151.0            100.7              317.32   \n",
       "72            9.3          129.6             46.3              404.22   \n",
       "3             6.4           82.9             19.1              227.42   \n",
       "79            0.0          193.2             41.4              279.08   \n",
       "\n",
       "    Median_Income  Average_Income  Number of Starbucks Stores  \\\n",
       "58        33980.0         45727.0                           0   \n",
       "0         35601.0         46896.0                           1   \n",
       "72        32172.0         49191.0                           0   \n",
       "3         40915.0         51242.0                           0   \n",
       "79        41878.0         51384.0                           0   \n",
       "\n",
       "    Number of Red Lights  Speeding Income Group  \n",
       "58                     0         0       25-50K  \n",
       "0                      2        26       25-50K  \n",
       "72                     1         3       25-50K  \n",
       "3                      0         4       50-75K  \n",
       "79                     1        15       50-75K  "
      ]
     },
     "execution_count": 4,
     "metadata": {},
     "output_type": "execute_result"
    }
   ],
   "source": [
    "sorted_df = final_df.sort_values(\"Average_Income\")\n",
    "sorted_df.head()"
   ]
  },
  {
   "cell_type": "code",
   "execution_count": 5,
   "metadata": {},
   "outputs": [
    {
     "data": {
      "text/plain": [
       "Income Group\n",
       "<25K         0\n",
       "25-50K       1\n",
       "50-75K      42\n",
       "75-100K     89\n",
       "100-125K    18\n",
       "Name: Number of Starbucks Stores, dtype: int32"
      ]
     },
     "execution_count": 5,
     "metadata": {},
     "output_type": "execute_result"
    }
   ],
   "source": [
    "sb_plot_df = sorted_df.groupby('Income Group')['Number of Starbucks Stores'].sum()\n",
    "sb_plot_df.head()"
   ]
  },
  {
   "cell_type": "code",
   "execution_count": 6,
   "metadata": {},
   "outputs": [
    {
     "data": {
      "image/png": "[encoded data removed]",
      "text/plain": [
       "<Figure size 432x288 with 1 Axes>"
      ]
     },
     "metadata": {
      "needs_background": "light"
     },
     "output_type": "display_data"
    }
   ],
   "source": [
    "sb_plot_df.plot(kind='bar', x='Income Group', y='Number of Starbucks Stores', color='orange')\n",
    "plt.title(\"Income Range vs. Total Starbucks Stores\")\n",
    "plt.xlabel(\"Income Range\")\n",
    "plt.ylabel(\"Total Starbucks Stores\")\n",
    "plt.xticks(rotation=90)\n",
    "plt.tight_layout\n",
    "plt.show()"
   ]
  },
  {
   "cell_type": "code",
   "execution_count": 7,
   "metadata": {},
   "outputs": [
    {
     "data": {
      "text/plain": [
       "<AxesSubplot:xlabel='Average_Income', ylabel='Number of Starbucks Stores'>"
      ]
     },
     "execution_count": 7,
     "metadata": {},
     "output_type": "execute_result"
    },
    {
     "data": {
      "image/png": "[encoded data removed]",
      "text/plain": [
       "<Figure size 432x288 with 1 Axes>"
      ]
     },
     "metadata": {
      "needs_background": "light"
     },
     "output_type": "display_data"
    }
   ],
   "source": [
    "final_df.plot(kind='scatter', x='Average_Income', y='Number of Starbucks Stores')"
   ]
  },
  {
   "cell_type": "code",
   "execution_count": 8,
   "metadata": {},
   "outputs": [
    {
     "data": {
      "text/plain": [
       "<AxesSubplot:xlabel='Average_Income', ylabel='Total Average Rate'>"
      ]
     },
     "execution_count": 8,
     "metadata": {},
     "output_type": "execute_result"
    },
    {
     "data": {
      "image/png": "[encoded data removed]",
      "text/plain": [
       "<Figure size 432x288 with 1 Axes>"
      ]
     },
     "metadata": {
      "needs_background": "light"
     },
     "output_type": "display_data"
    }
   ],
   "source": [
    "final_df.plot(kind='scatter', x='Average_Income', y='Total Average Rate')"
   ]
  },
  {
   "cell_type": "code",
   "execution_count": null,
   "metadata": {},
   "outputs": [],
   "source": []
  }
 ],
 "metadata": {
  "kernelspec": {
   "display_name": "Python 3",
   "language": "python",
   "name": "python3"
  },
  "language_info": {
   "codemirror_mode": {
    "name": "ipython",
    "version": 3
   },
   "file_extension": ".py",
   "mimetype": "text/x-python",
   "name": "python",
   "nbconvert_exporter": "python",
   "pygments_lexer": "ipython3",
   "version": "3.8.6"
  }
 },
 "nbformat": 4,
 "nbformat_minor": 4
}
